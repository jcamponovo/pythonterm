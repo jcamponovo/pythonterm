{
 "cells": [
  {
   "cell_type": "markdown",
   "metadata": {},
   "source": [
    "<h3 style=\"color:red;text-align:center;\">Python pour le programme de Terminale\n",
    "</h3>\n",
    "<p><br></p>\n",
    "<div style=\"text-align:justify;\">\n",
    "\n",
    "<ol>\n",
    "    <li style=\"padding-bottom:1em;\"><a href=\"./pythonterm.ipynb\" > La bibliothèque random </a></li>\n",
    "    <li style=\"padding-bottom:1em;\"><a href=\"./pythonterm2.ipynb\" > Simuler un processus aléatoire illustrant la détermination de la valeur d’une grandeur avec incertitudes types composées </a></li>\n",
    "    <li style=\"padding-bottom:1em;\"><a href=\"./pythonterm3.ipynb\" > Représenter, à l’aide d’un langage de programmation, l’évolution des quantités de matière des espèces en fonction du volume de solution titrante versé </a></li>\n",
    "    <li style=\"padding-bottom:1em;\"><a href=\"./pythonterm4.ipynb\" > Déterminer, à l’aide d’un langage de programmation, le taux d’avancement final d’une transformation, modélisée par la réaction d’un acide sur l’eau </a></li>\n",
    "    <li style=\"padding-bottom:1em;\"><a href=\"./pythonterm5.ipynb\" > Tracer, à l’aide d’un langage de programmation, le diagramme de distribution des espèces d’un couple acide-base de pKa donné </a></li>\n",
    "    <li style=\"padding-bottom:1em;\"><a href=\"./pythonterm6.ipynb\" > À l’aide d’un langage de programmation et à partir de données expérimentales, tracer l’évolution temporelle d’une concentration, d’une vitesse volumique d’apparition ou de disparition et tester une relation donnée entre la vitesse volumique de disparition et la concentration d’un réactif </a></li>\n",
    "    <li style=\"padding-bottom:1em;\"><a href=\"./pythonterm7.ipynb\" > Exploiter, à l’aide d’un langage de programmation, des données astronomiques ou satellitaires pour tester les deuxième et troisième lois de Kepler </a></li>\n",
    "</ol></div>"
   ]
  },
  {
   "cell_type": "markdown",
   "metadata": {},
   "source": [
    "<h1 style=\"text-align:center;\">1. La bibliothèque random </h1>"
   ]
  },
  {
   "cell_type": "markdown",
   "metadata": {},
   "source": [
    "La bibliothèque random en python permet de mélanger une liste ou de tirer une valeur aléatoire par exemple."
   ]
  },
  {
   "cell_type": "code",
   "execution_count": 1,
   "metadata": {},
   "outputs": [],
   "source": [
    "# Import de la bibliothèque\n",
    "import random as rd\n",
    "import matplotlib.pyplot as plt"
   ]
  },
  {
   "cell_type": "markdown",
   "metadata": {},
   "source": [
    "* Exemple de mélange d'une liste"
   ]
  },
  {
   "cell_type": "code",
   "execution_count": 2,
   "metadata": {},
   "outputs": [
    {
     "name": "stdout",
     "output_type": "stream",
     "text": [
      "la liste initiale est [0, 1, 2, 3, 4, 5, 6, 7, 8, 9]\n",
      "la liste melangée est [9, 3, 4, 5, 0, 2, 7, 1, 6, 8]\n"
     ]
    }
   ],
   "source": [
    "l = list(range(10))\n",
    "print(\"la liste initiale est\",l)\n",
    "rd.shuffle(l)\n",
    "print(\"la liste melangée est\",l)"
   ]
  },
  {
   "cell_type": "markdown",
   "metadata": {},
   "source": [
    "* Exemple de tirage aléatoire de valeur"
   ]
  },
  {
   "cell_type": "markdown",
   "metadata": {},
   "source": [
    "1. Tirer une valeur aléatoire dans un ensemble choisi avec équiprobabilité entre les valeurs\n",
    "\n",
    "On utilise pour celà **rd.random()**"
   ]
  },
  {
   "cell_type": "code",
   "execution_count": 3,
   "metadata": {},
   "outputs": [
    {
     "name": "stdout",
     "output_type": "stream",
     "text": [
      "la valeur obtenue est -0.21539380471457248\n"
     ]
    }
   ],
   "source": [
    "# rd.random() tire une valeur aléatoire dans [0, 1[\n",
    "a = -2 + 4*rd.random()\n",
    "print(\"la valeur obtenue est\",a)"
   ]
  },
  {
   "cell_type": "markdown",
   "metadata": {},
   "source": [
    "Comme rd.random() tire une valeur aléatoire dans [0, 1[, la cellule ci-dessus donnera une valeur différente à chaque exécution dans l'ensemble [-2, 2[ car la valeur va de $-2\\ +\\ 4 \\times 0 = -2$ inclu à $-2\\ +\\ 4 \\times 1 = 2$ exclu."
   ]
  },
  {
   "cell_type": "markdown",
   "metadata": {},
   "source": [
    "2. Tirer aléatoirement un élément d'une liste.\n",
    "\n",
    "\n",
    "On utilise pour celà **rd.choice(liste)**"
   ]
  },
  {
   "cell_type": "code",
   "execution_count": 4,
   "metadata": {},
   "outputs": [
    {
     "name": "stdout",
     "output_type": "stream",
     "text": [
      "11\n"
     ]
    }
   ],
   "source": [
    "l = [2, 3, 5, 7, 11, 13, 17, 19, 23, 29]\n",
    "element = rd.choice(l)\n",
    "print(element)"
   ]
  },
  {
   "cell_type": "markdown",
   "metadata": {},
   "source": [
    "La cellule ci-dessus affichera à chaque exécution une valeur tirée aléatoirement dans la liste l."
   ]
  },
  {
   "cell_type": "markdown",
   "metadata": {},
   "source": [
    "3. Tirer une valeur pour simuler un phénomène naturel aléatoire dont on connaît moyenne et écart type\n",
    "\n",
    "\n",
    "On utilise pour celà **rd.normalvariate(moyenne, ecart_type)**"
   ]
  },
  {
   "cell_type": "code",
   "execution_count": 5,
   "metadata": {},
   "outputs": [
    {
     "data": {
      "image/png": "[encoded data removed]",
      "text/plain": [
       "<Figure size 432x288 with 1 Axes>"
      ]
     },
     "metadata": {
      "needs_background": "light"
     },
     "output_type": "display_data"
    }
   ],
   "source": [
    "moyenne = 1.5\n",
    "sigma = 0.75\n",
    "x = []\n",
    "for i in range(100000): # 100000 tirages\n",
    "    x.append(rd.normalvariate(moyenne,sigma))\n",
    "plt.hist(x,bins=100) # pour le tracé d'histogramme voir la partie concernée\n",
    "plt.title(\"repartition des valeurs\")\n",
    "plt.show()"
   ]
  },
  {
   "cell_type": "code",
   "execution_count": 6,
   "metadata": {},
   "outputs": [
    {
     "name": "stdout",
     "output_type": "stream",
     "text": [
      "moyenne donnée:  1.5\n",
      "moyenne tirage:  1.5027417927420041\n"
     ]
    }
   ],
   "source": [
    "# Calcul de moyenne\n",
    "print(\"moyenne donnée: \", moyenne)\n",
    "print(\"moyenne tirage: \", sum(x)/len(x))"
   ]
  },
  {
   "cell_type": "markdown",
   "metadata": {},
   "source": [
    "L'écart type $\\sigma_{n - 1}$ se calcule d'après: \n",
    "\n",
    "$$\\sigma_{n-1} = \\sqrt{\\frac{1}{n-1}\\sum_{i = 1}^{n}{\\left(X_i - \\bar{X}\\right)}^2} = \\sqrt{\\frac{1}{n-1}\\sum_{i = 1}^{n}{{X_i}^2} - \\bar{X}^2}$$\n",
    "\n",
    "\n",
    "C'est la deuxième forme que l'on utilise ci-dessous pour le calculer.\n"
   ]
  },
  {
   "cell_type": "code",
   "execution_count": 7,
   "metadata": {},
   "outputs": [
    {
     "name": "stdout",
     "output_type": "stream",
     "text": [
      "ecart type donné:  0.75\n",
      "ecart type tirage:  0.749064665872718\n"
     ]
    }
   ],
   "source": [
    "# Calcul écart type\n",
    "print(\"ecart type donné: \", sigma)\n",
    "\n",
    "somme = 0\n",
    "for element in x:\n",
    "    somme += element**2\n",
    "sigma_n_moins_un = (1/(len(x)-1) * somme - (sum(x)/len(x))**2)**0.5\n",
    "\n",
    "print(\"ecart type tirage: \",sigma_n_moins_un)"
   ]
  },
  {
   "cell_type": "markdown",
   "metadata": {},
   "source": [
    "Une valeur est considérée comme correcte lorsqu'elle se situe dans l'intervalle $\\left[\\bar{X} - 2\\sigma , \\bar{X} + 2\\sigma \\right]$ qui correspond à 95% des tirages aléatoires dans le cas d'une loi normale. Si on veut un intervalle de confiance à 99%, il faut prendre l'intervalle $\\left[\\bar{X} - 3\\sigma , \\bar{X} + 3\\sigma \\right]$"
   ]
  },
  {
   "cell_type": "code",
   "execution_count": 8,
   "metadata": {},
   "outputs": [
    {
     "name": "stdout",
     "output_type": "stream",
     "text": [
      "à +- 1 sigma 68.374 %\n",
      "à +- 2 sigma 95.438 %\n",
      "à +- 3 sigma 99.734 %\n"
     ]
    }
   ],
   "source": [
    "# Mesure du pourcentage de valeurs à \n",
    "# moyenne +- sigma\n",
    "# moyenne +- 2 sigma\n",
    "# moyenne +- 3 sigma\n",
    "unsigma = 0\n",
    "deuxsigma = 0\n",
    "troissigma = 0\n",
    "for el in x:\n",
    "    if moyenne - sigma < el < moyenne + sigma:\n",
    "        unsigma += 1\n",
    "    if moyenne - 2*sigma < el < moyenne + 2*sigma:\n",
    "        deuxsigma += 1\n",
    "    if moyenne - 3*sigma < el < moyenne + 3*sigma:\n",
    "        troissigma += 1\n",
    "\n",
    "print(\"à +- 1 sigma\",100*unsigma/len(x),\"%\")\n",
    "print(\"à +- 2 sigma\",100*deuxsigma/len(x),\"%\")\n",
    "print(\"à +- 3 sigma\",100*troissigma/len(x),\"%\")"
   ]
  },
  {
   "cell_type": "markdown",
   "metadata": {},
   "source": [
    "Le z-score représente le rapport entre l'écart (en valeur absolue) entre la valeur obtenue et la moyenne des valeurs et l'écart type. Si ce z-score est inférieur à 2, on considère que la valeur est de bonne qualité (on est à $\\pm\\ 2 \\sigma$ de la moyenne). Dans certains cas on pourra être amenés à comparer le zscore à 1 ou à 3."
   ]
  },
  {
   "cell_type": "code",
   "execution_count": 9,
   "metadata": {},
   "outputs": [
    {
     "name": "stdout",
     "output_type": "stream",
     "text": [
      "valeur:  0.28 zscore:  1.6266666666666667\n",
      "valeur:  3.6 zscore:  2.8000000000000003\n"
     ]
    }
   ],
   "source": [
    "def zscore(valeur,moyenne,sigma):\n",
    "    return abs(valeur - moyenne)/sigma\n",
    "\n",
    "# Par exemple\n",
    "print(\"valeur: \",0.28, \"zscore: \",zscore(0.28,moyenne,sigma))\n",
    "# On a bien 1.5 - 2*0.75 < 0.28 < 1.5 + 2*0.75 d'où un zscore < 2\n",
    "\n",
    "print(\"valeur: \", 3.6, \"zscore: \",zscore(3.6,moyenne,sigma))\n",
    "# On a 1.5 + 2*0.75 < 3.6 donc zscore > 2\n"
   ]
  },
  {
   "cell_type": "markdown",
   "metadata": {},
   "source": [
    "# Exercice \n",
    "Un constructeur de composants électroniques indique que:\n",
    "Une résistance est construite avec une valeur de $R = 1000\\ \\Omega$ et une tolérance de 5%. On assimilera cette tolérance et l'écart type.\n",
    "1. Ecrire une fonction alea(R,sigma) qui prend comme arguments la valeur de R et la tolérance données et qui renvoie une valeur de résistance correspondant au choix aléatoire d'une résistance parmi un grand nombre de composants.\n",
    "2. Construire une liste de 8 valeurs (obtenues à l'aide de la fonction alea) afin de simuler les valeurs de R distribuées à chaque binôme lors d'un TP.\n",
    "3. Ecrire une fonction **moyenne(liste)** et une fonction **sigma(liste)** qui renvoient respectivement la moyenne et $\\sigma_{n-1}$ pour la série de valeurs contenue dans la liste. Utiliser alors ces fonctions afin de calculer moyenne et $\\sigma_{n-1}$ pour la série de valeurs de la question 2.\n",
    "4. Construire la liste des z-score pour chaque valeur de cette série."
   ]
  },
  {
   "cell_type": "code",
   "execution_count": 11,
   "metadata": {},
   "outputs": [],
   "source": [
    "# 1.\n",
    "def alea(R, sigma):\n",
    "    # A compléter\n",
    "    \n",
    "    \n",
    "# test de la fonction\n",
    "R = 1000\n",
    "sigma = 50\n",
    "alea(R, sigma)"
   ]
  },
  {
   "cell_type": "code",
   "execution_count": 12,
   "metadata": {},
   "outputs": [],
   "source": [
    "# 2.\n"
   ]
  },
  {
   "cell_type": "code",
   "execution_count": 14,
   "metadata": {},
   "outputs": [],
   "source": [
    "# 3.\n",
    "def moyenne(liste):\n",
    "    # à compléter\n",
    "    \n",
    "def sigma(liste):\n",
    "    # à compléter\n",
    "    \n",
    "    "
   ]
  },
  {
   "cell_type": "code",
   "execution_count": 15,
   "metadata": {},
   "outputs": [],
   "source": [
    "# 4.\n"
   ]
  },
  {
   "cell_type": "markdown",
   "metadata": {},
   "source": [
    "<div align=\"right\"><a href=\"./pythonterm2.ipynb\"> page suivante </a></div>"
   ]
  }
 ],
 "metadata": {
  "kernelspec": {
   "display_name": "Python 3",
   "language": "python",
   "name": "python3"
  },
  "language_info": {
   "codemirror_mode": {
    "name": "ipython",
    "version": 3
   },
   "file_extension": ".py",
   "mimetype": "text/x-python",
   "name": "python",
   "nbconvert_exporter": "python",
   "pygments_lexer": "ipython3",
   "version": "3.8.3"
  },
  "varInspector": {
   "cols": {
    "lenName": 16,
    "lenType": 16,
    "lenVar": 40
   },
   "kernels_config": {
    "python": {
     "delete_cmd_postfix": "",
     "delete_cmd_prefix": "del ",
     "library": "var_list.py",
     "varRefreshCmd": "print(var_dic_list())"
    },
    "r": {
     "delete_cmd_postfix": ") ",
     "delete_cmd_prefix": "rm(",
     "library": "var_list.r",
     "varRefreshCmd": "cat(var_dic_list()) "
    }
   },
   "types_to_exclude": [
    "module",
    "function",
    "builtin_function_or_method",
    "instance",
    "_Feature"
   ],
   "window_display": false
  }
 },
 "nbformat": 4,
 "nbformat_minor": 4
}

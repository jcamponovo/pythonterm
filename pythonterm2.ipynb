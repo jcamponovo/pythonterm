{
 "cells": [
  {
   "cell_type": "markdown",
   "metadata": {},
   "source": [
    "<h3 style=\"color:red;text-align:center;\">Python pour le programme de Terminale\n",
    "</h3>\n",
    "<p><br></p>\n",
    "<div style=\"text-align:justify;\">\n",
    "\n",
    "<ol>\n",
    "    <li style=\"padding-bottom:1em;\"><a href=\"./pythonterm.ipynb\" > La bibliothèque random </a></li>\n",
    "    <li style=\"padding-bottom:1em;\"><a href=\"./pythonterm2.ipynb\" > Simuler un processus aléatoire illustrant la détermination de la valeur d’une grandeur avec incertitudes types composées </a></li>\n",
    "    <li style=\"padding-bottom:1em;\"><a href=\"./pythonterm3.ipynb\" > Représenter, à l’aide d’un langage de programmation, l’évolution des quantités de matière des espèces en fonction du volume de solution titrante versé </a></li>\n",
    "    <li style=\"padding-bottom:1em;\"><a href=\"./pythonterm4.ipynb\" > Déterminer, à l’aide d’un langage de programmation, le taux d’avancement final d’une transformation, modélisée par la réaction d’un acide sur l’eau </a></li>\n",
    "    <li style=\"padding-bottom:1em;\"><a href=\"./pythonterm5.ipynb\" > Tracer, à l’aide d’un langage de programmation, le diagramme de distribution des espèces d’un couple acide-base de pKa donné </a></li>\n",
    "    <li style=\"padding-bottom:1em;\"><a href=\"./pythonterm6.ipynb\" > À l’aide d’un langage de programmation et à partir de données expérimentales, tracer l’évolution temporelle d’une concentration, d’une vitesse volumique d’apparition ou de disparition et tester une relation donnée entre la vitesse volumique de disparition et la concentration d’un réactif </a></li>\n",
    "    <li style=\"padding-bottom:1em;\"><a href=\"./pythonterm7.ipynb\" > Exploiter, à l’aide d’un langage de programmation, des données astronomiques ou satellitaires pour tester les deuxième et troisième lois de Kepler </a></li>\n",
    "</ol></div>"
   ]
  },
  {
   "cell_type": "markdown",
   "metadata": {},
   "source": [
    "<h1 style=\"text-align:center;\">2. Simuler un processus aléatoire illustrant la détermination de la valeur d’une grandeur avec incertitudes types composées </h1>"
   ]
  },
  {
   "cell_type": "markdown",
   "metadata": {},
   "source": [
    "Pour chacune des grandeurs, une moyenne et un écart-type sont connus. Il s'agit juste de faire un tirage aléatoire pour chacune des grandeurs puis calculer la grandeur composée. Sur un grand nombre de tirages, on peut alors calculer la moyenne et $\\sigma_{n-1}$ pour la grandeur composée."
   ]
  },
  {
   "cell_type": "code",
   "execution_count": 1,
   "metadata": {},
   "outputs": [],
   "source": [
    "import random as rd\n",
    "import matplotlib.pyplot as plt"
   ]
  },
  {
   "cell_type": "code",
   "execution_count": 2,
   "metadata": {},
   "outputs": [],
   "source": [
    "def moy(liste):\n",
    "    return sum(liste)/len(liste)\n",
    "\n",
    "def ecart_type(liste):\n",
    "    somme = 0\n",
    "    for element in liste:\n",
    "        somme += element**2\n",
    "    return (1/(len(liste)-1) * somme - (sum(liste)/len(liste))**2)**0.5\n",
    "\n",
    "def alea(moyenne, sigma):\n",
    "    return rd.normalvariate(moyenne,sigma)"
   ]
  },
  {
   "cell_type": "markdown",
   "metadata": {},
   "source": [
    "Cas d'un circuit RC série avec $R = 1000\\ \\Omega$ et une tolérance de 5% sur R et $C = 1\\ \\mu F$ et une tolérance de 5% sur C. On cherche a déterminer moyenne et écart-type sur les valeurs du temps caractéristique $\\tau = R \\times C$. Pour cela on tire un grand nombre de fois une valeur de R, et une valeur de C en assimilant par soucis de simplification l'incertitude type et la tolérance. On calcule ensuite $\\tau$ comme étant le produit des deux valeur stirées. Les résultats sont stockés dans des listes afin de pouvoir calculer moyenne et écart-type sur la liste de valeurs de $\\tau$.\n",
    "\n",
    "\n",
    "Un grand nombre de paramètres influencent les valeurs de R et C, la loi statistique de répartition choisie est donc une loi normale centrée sur la valeur donnée par le constructeur."
   ]
  },
  {
   "cell_type": "code",
   "execution_count": 3,
   "metadata": {},
   "outputs": [],
   "source": [
    "# Données\n",
    "R = 1000\n",
    "sigmaR = 50\n",
    "C = 1e-6\n",
    "sigmaC = 5e-8\n",
    "\n",
    "# Tirages et calculs\n",
    "listeR = []\n",
    "listeC = []\n",
    "listeTau = []\n",
    "for i in range(100000): # 100000 tirages aléatoires\n",
    "    listeR.append(alea(R,sigmaR))\n",
    "    listeC.append(alea(C,sigmaC))\n",
    "    listeTau.append(listeR[-1]*listeC[-1])"
   ]
  },
  {
   "cell_type": "markdown",
   "metadata": {},
   "source": [
    "Si on affiche les valeurs de $\\tau$ sous la forme d'un histogramme, on retrouve bien l'allure d'une loi normale."
   ]
  },
  {
   "cell_type": "code",
   "execution_count": 4,
   "metadata": {},
   "outputs": [
    {
     "data": {
      "image/png": "[encoded data removed]",
      "text/plain": [
       "<Figure size 432x288 with 1 Axes>"
      ]
     },
     "metadata": {
      "needs_background": "light"
     },
     "output_type": "display_data"
    }
   ],
   "source": [
    "plt.hist(listeTau,bins=100)\n",
    "plt.title(\"Repartition des temps caractéristiques\")\n",
    "plt.xlabel(\"temps (en s)\")\n",
    "plt.show()"
   ]
  },
  {
   "cell_type": "markdown",
   "metadata": {},
   "source": [
    "On peut aussi comparer les valeurs moyennes de R et C aux valeurs données ainsi que les écart-types sur les deux séries aux tolérances données afin de vérifier la bonne réalisation du tirage aléatoire."
   ]
  },
  {
   "cell_type": "code",
   "execution_count": 5,
   "metadata": {},
   "outputs": [
    {
     "name": "stdout",
     "output_type": "stream",
     "text": [
      "R donné: 1000\n",
      "Rmoy de la série aléatoire: 1000.0270260493277\n",
      "---------------------------------------\n",
      "tolérance sur R: 50\n",
      "Ecart type de la série aléatoire de R: 49.86148198552958\n",
      "---------------------------------------\n",
      "C donné 1e-06\n",
      "Cmoy de la série aléatoire: 1.000040319693217e-06\n",
      "---------------------------------------\n",
      "tolérance sur C: 5e-08\n",
      "Ecart type de la série aléatoire de C: 5.0120323040188155e-08\n"
     ]
    }
   ],
   "source": [
    "# Affichage des résultats\n",
    "print(\"R donné:\",R)\n",
    "print(\"Rmoy de la série aléatoire:\",moy(listeR))\n",
    "print(\"---------------------------------------\")\n",
    "print(\"tolérance sur R:\",sigmaR)\n",
    "print(\"Ecart type de la série aléatoire de R:\",ecart_type(listeR))\n",
    "print(\"---------------------------------------\")\n",
    "print(\"C donné\",C)\n",
    "print(\"Cmoy de la série aléatoire:\",moy(listeC))\n",
    "print(\"---------------------------------------\")\n",
    "print(\"tolérance sur C:\",sigmaC)\n",
    "print(\"Ecart type de la série aléatoire de C:\",ecart_type(listeC))"
   ]
  },
  {
   "cell_type": "markdown",
   "metadata": {},
   "source": [
    "On peut ensuite comparer la moyenne des valeurs de $\\tau$ obtenues et la valeur obtenue par le calcul $\\tau = R\\times C$. On s'aperçoit que les deux valeurs sont très proches."
   ]
  },
  {
   "cell_type": "code",
   "execution_count": 6,
   "metadata": {},
   "outputs": [
    {
     "name": "stdout",
     "output_type": "stream",
     "text": [
      "Tau calculé avec les R et C donnés: 0.001\n",
      "Tau moyenne de la série aléatoire: 0.0010000837005509555\n"
     ]
    }
   ],
   "source": [
    "print(\"Tau calculé avec les R et C donnés:\",R*C)\n",
    "print(\"Tau moyenne de la série aléatoire:\",moy(listeTau))"
   ]
  },
  {
   "cell_type": "markdown",
   "metadata": {},
   "source": [
    "Enfin, on peut vérifier que les lois statistiques données fonctionnent dans ce cas. Ainsi, l'incertitude type composée calculée par $$u(\\tau) = \\sqrt{\\left( R\\times u(C)\\right)^2 + \\left(u(R)\\times C\\right)^2} = \\tau \\times \\sqrt{\\left(\\frac{u(R)}{R}\\right)^2 + \\left(\\frac{u(C)}{C}\\right)^2} $$\n",
    "est comparée à l'écart type de la série de valeurs de $\\tau$\n",
    "\n",
    "\n",
    "Le calcul donne $u(\\tau) = \\tau \\times \\sqrt{0.05^2 + 0.05^2} = \\tau \\times 0.05 \\times \\sqrt{2} \\approx 0.0707 \\times \\tau\\ $ très proche de l'écart type de la série aléatoire.\n",
    "\n"
   ]
  },
  {
   "cell_type": "code",
   "execution_count": 7,
   "metadata": {},
   "outputs": [
    {
     "name": "stdout",
     "output_type": "stream",
     "text": [
      "Incertitude type composée calculé d'après les formules statistiques données: 7.07e-05\n",
      "Ecart type de la série aléatoire de Tau: 7.090359733291792e-05\n"
     ]
    }
   ],
   "source": [
    "print(\"Incertitude type composée calculé d'après les formules statistiques données:\",0.0707*R*C)\n",
    "print(\"Ecart type de la série aléatoire de Tau:\", ecart_type(listeTau))"
   ]
  },
  {
   "cell_type": "markdown",
   "metadata": {},
   "source": [
    "# Exercice\n",
    "Pour un TP, on souhaite préparer par dissolution une solution de sulfate de cuivre de concentration en moles $C_0 = 0,100\\ mol.L^{-1}$ en utilisant une fiole jaugée d'un volume $V_0 = 1000,0\\ mL$ et une balance. On assimilera ici par soucis de simplification les incertitudes types et les tolérances des différentes pièces de verrerie utilisées.\n",
    "\n",
    "On donne $M_{CuSO_4 \\cdot 5 H_2O} = 249,6\\ g.mol^{-1}$ (valeur supposée exacte), $u(m) = 0,01\\ g$ (incertitude type sur la mesure à la balance), et $u(V_0) =  0,8\\ mL$ (incertitude type sur le volume de la fiole jaugée)\n",
    "\n",
    "1. Calculer la masse de sulfate de cuivre pentahydraté à prélever. Construire alors une liste de 100000 valeurs de m simulant un processus aléatoire.\n",
    "2. Construire une liste de 100000 valeurs de $V_0$ simulant un processus aléatoire.\n",
    "3. Construire alors à partir des deux listes précédentes, une liste de 100000 valeurs de $C_0$ simulant un processus aléatoire.\n",
    "4. Estimer la valeur de $C_0$ et l'incertitude type composée sur $C_0$ à partir de cette liste.\n",
    "\n",
    "Lors du TP, les élèves doivent diluer la solution $S_0$ fournie afin d'obtenir une solution $S_1$ de concentration en mole $C_1 = 0,010\\ mol.L^{-1}$. Ils disposent d'une pipette jaugée de volume $V_1 = 25,00\\ mL$ avec $u(V_1) = 0,060\\ mL$ et d'une fiole jaugée de volume $V_2 = 250,0\\ mL$ avec $u(V_2) = 0,30\\ mL$.\n",
    "\n",
    "5. Estimer la valeur de la concentration en moles $C_1$ de la solution obtenue ainsi que l'incertitude type $u(C_1)$ sur cette valeur en simulant un processus aléatoire. Cette valeur est-elle en accord avec celle obtenue par l'utilisation de la formule donnée par la statistique ?\n",
    "6. Construire l'histogramme représentant la série de valeurs de $C_1$ obtenue."
   ]
  },
  {
   "cell_type": "code",
   "execution_count": null,
   "metadata": {},
   "outputs": [],
   "source": [
    "# 1.\n"
   ]
  },
  {
   "cell_type": "code",
   "execution_count": null,
   "metadata": {},
   "outputs": [],
   "source": [
    "# 2.\n"
   ]
  },
  {
   "cell_type": "code",
   "execution_count": null,
   "metadata": {},
   "outputs": [],
   "source": [
    "# 3.\n"
   ]
  },
  {
   "cell_type": "code",
   "execution_count": null,
   "metadata": {},
   "outputs": [],
   "source": [
    "# 4.\n"
   ]
  },
  {
   "cell_type": "code",
   "execution_count": null,
   "metadata": {},
   "outputs": [],
   "source": [
    "# 5.\n"
   ]
  },
  {
   "cell_type": "code",
   "execution_count": null,
   "metadata": {},
   "outputs": [],
   "source": [
    "# 6.\n"
   ]
  },
  {
   "cell_type": "markdown",
   "metadata": {},
   "source": [
    "<p style=\"text-align:justify;\"><span style=\"float:left;\"><a href=\"./pythonterm.ipynb\" > page précédente </a></span> <span style=\"float:right;\"><a href=\"./pythonterm3.ipynb\" > page suivante </a></span></p>\n"
   ]
  }
 ],
 "metadata": {
  "kernelspec": {
   "display_name": "Python 3",
   "language": "python",
   "name": "python3"
  },
  "language_info": {
   "codemirror_mode": {
    "name": "ipython",
    "version": 3
   },
   "file_extension": ".py",
   "mimetype": "text/x-python",
   "name": "python",
   "nbconvert_exporter": "python",
   "pygments_lexer": "ipython3",
   "version": "3.8.3"
  },
  "varInspector": {
   "cols": {
    "lenName": 16,
    "lenType": 16,
    "lenVar": 40
   },
   "kernels_config": {
    "python": {
     "delete_cmd_postfix": "",
     "delete_cmd_prefix": "del ",
     "library": "var_list.py",
     "varRefreshCmd": "print(var_dic_list())"
    },
    "r": {
     "delete_cmd_postfix": ") ",
     "delete_cmd_prefix": "rm(",
     "library": "var_list.r",
     "varRefreshCmd": "cat(var_dic_list()) "
    }
   },
   "types_to_exclude": [
    "module",
    "function",
    "builtin_function_or_method",
    "instance",
    "_Feature"
   ],
   "window_display": false
  }
 },
 "nbformat": 4,
 "nbformat_minor": 4
}

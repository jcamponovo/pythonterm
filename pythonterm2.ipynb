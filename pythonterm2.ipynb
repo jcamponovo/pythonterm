{
 "cells": [
  {
   "cell_type": "markdown",
   "metadata": {},
   "source": [
    "# Simuler un processus aléatoire illustrant la détermination de la valeur d’une grandeur avec incertitudes types composées"
   ]
  },
  {
   "cell_type": "markdown",
   "metadata": {},
   "source": [
    "Pour chacune des grandeurs, une moyenne et un écart-type sont connus. Il s'agit juste de faire un tirage aléatoire pour chacune des grandeurs puis calculer la grandeur composée. Sur un grand nombre de tirages, on peut alors calculer la moyenne et $\\sigma_{n-1}$ pour la grandeur composée."
   ]
  },
  {
   "cell_type": "code",
   "execution_count": 2,
   "metadata": {},
   "outputs": [],
   "source": [
    "import random as rd\n",
    "import matplotlib.pyplot as plt"
   ]
  },
  {
   "cell_type": "code",
   "execution_count": 7,
   "metadata": {},
   "outputs": [],
   "source": [
    "def moy(liste):\n",
    "    return sum(liste)/len(liste)\n",
    "\n",
    "def ecart_type(liste):\n",
    "    somme = 0\n",
    "    for element in liste:\n",
    "        somme += element**2\n",
    "    return (1/(len(liste)-1) * somme - (sum(liste)/len(liste))**2)**0.5\n",
    "\n",
    "def alea(moyenne, sigma):\n",
    "    return rd.normalvariate(moyenne,sigma)"
   ]
  },
  {
   "cell_type": "markdown",
   "metadata": {},
   "source": [
    "Cas d'un circuit RC série avec $R = 1000\\ \\Omega$ et une tolérance de 5% sur R et $C = 1\\ \\mu F$ et une tolérance de 5% sur C. On cherche a déterminer moyenne et écart-type sur les valeurs du temps caractéristique $\\tau = R \\times C$. Pour cela on tire un grand nombre de fois une valeur de R, une valeur de C puis on calcule $\\tau$. Les résultats sont stockés dans des listes afin de pouvoir calculer moyenne et écart-type sur $\\tau$."
   ]
  },
  {
   "cell_type": "code",
   "execution_count": 20,
   "metadata": {},
   "outputs": [],
   "source": [
    "# Données\n",
    "R = 1000\n",
    "sigmaR = 50\n",
    "C = 1e-6\n",
    "sigmaC = 5e-8\n",
    "\n",
    "# Tirages et calculs\n",
    "listeR = []\n",
    "listeC = []\n",
    "listeTau = []\n",
    "for i in range(100000): # 100000 tirages aléatoires\n",
    "    listeR.append(alea(R,sigmaR))\n",
    "    listeC.append(alea(C,sigmaC))\n",
    "    listeTau.append(listeR[-1]*listeC[-1])"
   ]
  },
  {
   "cell_type": "markdown",
   "metadata": {},
   "source": [
    "Affichage des valeurs de $\\tau$ sous la forme d'un histogramme. On retrouve bien l'allure d'une loi normale."
   ]
  },
  {
   "cell_type": "code",
   "execution_count": 21,
   "metadata": {},
   "outputs": [
    {
     "data": {
      "image/png": "[encoded data removed]",
      "text/plain": [
       "<Figure size 432x288 with 1 Axes>"
      ]
     },
     "metadata": {
      "needs_background": "light"
     },
     "output_type": "display_data"
    }
   ],
   "source": [
    "plt.hist(listeTau,bins=100)\n",
    "plt.title(\"Repartition des temps caractéristiques\")\n",
    "plt.xlabel(\"temps (en s)\")\n",
    "plt.show()"
   ]
  },
  {
   "cell_type": "markdown",
   "metadata": {},
   "source": [
    "On peut aussi comparer les valeurs moyennes de R et C aux valeurs données ainsi que les écart_types sur les deux séries aux tolérances données afin de vérifier la bonne réalisation du tirage aléatoire."
   ]
  },
  {
   "cell_type": "code",
   "execution_count": 22,
   "metadata": {},
   "outputs": [
    {
     "name": "stdout",
     "output_type": "stream",
     "text": [
      "R donné: 1000\n",
      "Rmoy de la série aléatoire: 999.9434283893464\n",
      "---------------------------------------\n",
      "tolérance sur R: 50\n",
      "Ecart type de la série aléatoire de R: 50.18961909005149\n",
      "---------------------------------------\n",
      "C donné 1e-06\n",
      "Cmoy de la série aléatoire: 1.0000291556909474e-06\n",
      "---------------------------------------\n",
      "tolérance sur C: 5e-08\n",
      "Ecart type de la série aléatoire de C: 5.017780043708501e-08\n"
     ]
    }
   ],
   "source": [
    "# Affichage des résultats\n",
    "print(\"R donné:\",R)\n",
    "print(\"Rmoy de la série aléatoire:\",moy(listeR))\n",
    "print(\"---------------------------------------\")\n",
    "print(\"tolérance sur R:\",sigmaR)\n",
    "print(\"Ecart type de la série aléatoire de R:\",ecart_type(listeR))\n",
    "print(\"---------------------------------------\")\n",
    "print(\"C donné\",C)\n",
    "print(\"Cmoy de la série aléatoire:\",moy(listeC))\n",
    "print(\"---------------------------------------\")\n",
    "print(\"tolérance sur C:\",sigmaC)\n",
    "print(\"Ecart type de la série aléatoire de C:\",ecart_type(listeC))"
   ]
  },
  {
   "cell_type": "markdown",
   "metadata": {},
   "source": [
    "On peut ensuite comparer la moyenne des valeurs de $\\tau$ obtenues et la valeur obtenue par le calcul $\\tau = R\\times C$. On s'aperçoit que les deux valeurs sont très proches."
   ]
  },
  {
   "cell_type": "code",
   "execution_count": 23,
   "metadata": {},
   "outputs": [
    {
     "name": "stdout",
     "output_type": "stream",
     "text": [
      "Tau calculé avec les R et C donnés: 0.001\n",
      "Tau moyenne de la série aléatoire: 0.000999966253864291\n"
     ]
    }
   ],
   "source": [
    "print(\"Tau calculé avec les R et C donnés:\",R*C)\n",
    "print(\"Tau moyenne de la série aléatoire:\",moy(listeTau))"
   ]
  },
  {
   "cell_type": "markdown",
   "metadata": {},
   "source": [
    "Enfin, on peut vérifier que les lois statistiques données fonctionnent dans ce cas. Ainsi, l'incertitude type composée calculée par $$U(\\tau) = \\sqrt{\\left( R\\times U(C)\\right)^2 + \\left(U(R)\\times C\\right)^2} = \\tau \\times \\sqrt{\\left(\\frac{U(R)}{R}\\right)^2 + \\left(\\frac{U(C)}{C}\\right)^2} $$\n",
    "est comparée à l'écart type de la série de valeurs de $\\tau$\n",
    "\n",
    "\n",
    "Le calcul donne $U(\\tau) = \\tau \\times \\sqrt{0.05^2 + 0.05^2} = \\tau \\times 0.05 \\times \\sqrt{2} \\approx 0.0707 \\times \\tau\\ $ très proche de l'écart type de la saérie aléatoire.\n",
    "\n"
   ]
  },
  {
   "cell_type": "code",
   "execution_count": 26,
   "metadata": {},
   "outputs": [
    {
     "name": "stdout",
     "output_type": "stream",
     "text": [
      "Incertitude type composée calculé d'après les formules statistiques données: 7.07e-05\n",
      "Ecart type de la série aléatoire de Tau: 7.086898283787153e-05\n"
     ]
    }
   ],
   "source": [
    "print(\"Incertitude type composée calculé d'après les formules statistiques données:\",0.0707*R*C)\n",
    "print(\"Ecart type de la série aléatoire de Tau:\", ecart_type(listeTau))"
   ]
  },
  {
   "cell_type": "markdown",
   "metadata": {},
   "source": [
    "# Exercice\n",
    "Pour un TP, on souhaite préparer par dissolution une solution de sulfate de cuivre de concentration en moles $C_0 = 0,100\\ mol.L^{-1}$ en utilisant une fiole jaugée d'un volume $V_0 = 1000,0\\ mL$ et une balance.\n",
    "\n",
    "On donne $M_{CuSO_4 \\cdot 5 H_2O} = 249,6\\ g.mol^{-1}$ (valeur supposée exacte), $U(m) = 0,01\\ g$ (incertitude type sur la mesure à la balance), et $U(V_0) =  0,8\\ mL$ (incertitude type sur le volume de la fiole jaugée)\n",
    "\n",
    "1. Calculer la masse de sulfate de cuivre pentahydraté à prélever. Construire alors une liste de 100000 valeurs de m simulant un processus aléatoire.\n",
    "2. Construire une liste de 100000 valeurs de $V_0$ simulant un processus aléatoire.\n",
    "3. Construire alors à partir des deux listes précédentes, une liste de 100000 valeurs de $C_0$ simulant un processus aléatoire.\n",
    "4. Estimer la valeur de $C_0$ et l'incertitude type composée sur $C_0$ à partir de cette liste.\n",
    "\n",
    "Lors du TP, les élèves doivent diluer la solution $S_0$ fournie afin d'obtenir une solution $S_1$ de concentration en mole $C_1 = 0,010\\ mol.L^{-1}$. Ils disposent d'une pipette jaugée de volume $V_1 = 25,00\\ mL$ avec $U(V_1) = 0,060\\ mL$ et d'une fiole jaugée de volume $V_2 = 250,0\\ mL$ avec $U(V_2) = 0,30\\ mL$.\n",
    "\n",
    "5. Estimer la valeur de la concentration en moles $C_1$ de la solution obtenue ainsi que l'incertitude type $U(C_1)$ sur cette valeur en simulant un processus aléatoire. Cette valeur est-elle en accord avec celle obtenue par l'utilisation de la formule donnée par la statistique ?\n",
    "6. Construire l'histogramme représentant la série de valeurs de $C_1$ obtenue."
   ]
  },
  {
   "cell_type": "code",
   "execution_count": null,
   "metadata": {},
   "outputs": [],
   "source": [
    "# 1.\n"
   ]
  },
  {
   "cell_type": "code",
   "execution_count": null,
   "metadata": {},
   "outputs": [],
   "source": [
    "# 2.\n"
   ]
  },
  {
   "cell_type": "code",
   "execution_count": null,
   "metadata": {},
   "outputs": [],
   "source": [
    "# 3.\n"
   ]
  },
  {
   "cell_type": "code",
   "execution_count": null,
   "metadata": {},
   "outputs": [],
   "source": [
    "# 4.\n"
   ]
  },
  {
   "cell_type": "code",
   "execution_count": null,
   "metadata": {},
   "outputs": [],
   "source": [
    "# 5.\n"
   ]
  },
  {
   "cell_type": "code",
   "execution_count": null,
   "metadata": {},
   "outputs": [],
   "source": [
    "# 6.\n"
   ]
  }
 ],
 "metadata": {
  "kernelspec": {
   "display_name": "Python 3",
   "language": "python",
   "name": "python3"
  },
  "language_info": {
   "codemirror_mode": {
    "name": "ipython",
    "version": 3
   },
   "file_extension": ".py",
   "mimetype": "text/x-python",
   "name": "python",
   "nbconvert_exporter": "python",
   "pygments_lexer": "ipython3",
   "version": "3.8.2"
  },
  "varInspector": {
   "cols": {
    "lenName": 16,
    "lenType": 16,
    "lenVar": 40
   },
   "kernels_config": {
    "python": {
     "delete_cmd_postfix": "",
     "delete_cmd_prefix": "del ",
     "library": "var_list.py",
     "varRefreshCmd": "print(var_dic_list())"
    },
    "r": {
     "delete_cmd_postfix": ") ",
     "delete_cmd_prefix": "rm(",
     "library": "var_list.r",
     "varRefreshCmd": "cat(var_dic_list()) "
    }
   },
   "types_to_exclude": [
    "module",
    "function",
    "builtin_function_or_method",
    "instance",
    "_Feature"
   ],
   "window_display": false
  }
 },
 "nbformat": 4,
 "nbformat_minor": 4
}

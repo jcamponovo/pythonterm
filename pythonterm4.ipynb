{
 "cells": [
  {
   "cell_type": "markdown",
   "metadata": {},
   "source": [
    "<h3 style=\"color:red;text-align:center;\">Python pour le programme de Terminale\n",
    "</h3>\n",
    "<p><br></p>\n",
    "<div style=\"text-align:justify;\">\n",
    "\n",
    "<ol>\n",
    "    <li style=\"padding-bottom:1em;\"><a href=\"./pythonterm.ipynb\" > La bibliothèque random </a></li>\n",
    "    <li style=\"padding-bottom:1em;\"><a href=\"./pythonterm2.ipynb\" > Simuler un processus aléatoire illustrant la détermination de la valeur d’une grandeur avec incertitudes types composées </a></li>\n",
    "    <li style=\"padding-bottom:1em;\"><a href=\"./pythonterm3.ipynb\" > Représenter, à l’aide d’un langage de programmation, l’évolution des quantités de matière des espèces en fonction du volume de solution titrante versé </a></li>\n",
    "    <li style=\"padding-bottom:1em;\"><a href=\"./pythonterm4.ipynb\" > Déterminer, à l’aide d’un langage de programmation, le taux d’avancement final d’une transformation, modélisée par la réaction d’un acide sur l’eau </a></li>\n",
    "    <li style=\"padding-bottom:1em;\"><a href=\"./pythonterm5.ipynb\" > Tracer, à l’aide d’un langage de programmation, le diagramme de distribution des espèces d’un couple acide-base de pKa donné </a></li>\n",
    "    <li style=\"padding-bottom:1em;\"><a href=\"./pythonterm6.ipynb\" > À l’aide d’un langage de programmation et à partir de données expérimentales, tracer l’évolution temporelle d’une concentration, d’une vitesse volumique d’apparition ou de disparition et tester une relation donnée entre la vitesse volumique de disparition et la concentration d’un réactif </a></li>\n",
    "    <li style=\"padding-bottom:1em;\"><a href=\"./pythonterm7.ipynb\" > Exploiter, à l’aide d’un langage de programmation, des données astronomiques ou satellitaires pour tester les deuxième et troisième lois de Kepler </a></li>\n",
    "</ol></div>"
   ]
  },
  {
   "cell_type": "markdown",
   "metadata": {},
   "source": [
    "<h1 style=\"text-align:center;\">4. Déterminer, à l’aide d’un langage de programmation, le taux d’avancement final d’une\n",
    "transformation, modélisée par la réaction d’un acide sur l’eau </h1>"
   ]
  },
  {
   "cell_type": "markdown",
   "metadata": {},
   "source": [
    "Pour déterminer le taux d'avancement final, il faut partir d'un avancement nul $x = 0$ et le faire avancer par petit pas $dx$ jusqu'à atteindre l'avancement final $x_f$ pour lequel on a un état d'équilibre.\n",
    "\n",
    "\n",
    "L'exemple choisi ici est la réaction de l'acide éthanoïque $CH_3COOH$ sur l'eau $H_2O$. L'eau est en large excès (solvant) et on considère connue la concentration et le volume de la solution d'acide éthanoïque considérée.\n",
    "$$ \\ $$\n",
    "\n",
    "|     | $CH_3COOH$ |  +  | $H_2O$ | $\\rightleftarrows$ | $CH_3COO^{-}$ |  +  | $H_3O^{+}$ |\n",
    "|:---:|:-----:|:---:|:----------------:|:---:|:-------:|:---:|:------------:|\n",
    "| EInit | $C V$ |  |  $excès$ |  |  $0$  |   |  $\\epsilon$  |\n",
    "| EInter | $C V - x$ |  |  $excès$ |  |  $x$ |   | $x + \\epsilon$ |\n",
    "| EF | $C  V - x_f$  |  |  $excès$ |  | $x_f$ |  |  $x_f + \\epsilon$ |\n",
    "\n",
    "$$ \\ $$\n",
    "\n",
    "$$K_a = \\frac{[H_3O^{+}] \\times [CH_3COO^{-}]}{[CH_3COOH]\\ C^{0}}$$\n",
    "\n",
    "$$ \\ $$\n",
    "La simulation python proposée, bien qu'imparfaite, permet de travailler la notion de quotient réactionnel tout en restant très simple à écrire et à comprendre."
   ]
  },
  {
   "cell_type": "code",
   "execution_count": 1,
   "metadata": {},
   "outputs": [
    {
     "name": "stdout",
     "output_type": "stream",
     "text": [
      "l'avancement final est de 1.2349999999999892e-05 mol\n",
      "le taux d'avancement est de 12.349999999999891 %\n"
     ]
    }
   ],
   "source": [
    "# Paramètres de la simulation\n",
    "C = 1e-3 # mol/L\n",
    "V = 0.1 # L\n",
    "Ka = 10**(-4.76)\n",
    "dx = 1e-8\n",
    "\n",
    "# Initialisation\n",
    "x = 0\n",
    "\n",
    "# Simulation\n",
    "while (x/V)**2 / (C - x/V) < Ka:\n",
    "    x = x + dx\n",
    "\n",
    "print(\"l'avancement final est de\",x,\"mol\")\n",
    "\n",
    "# Calcul du taux d'avancement\n",
    "xmax = C*V\n",
    "taux = x / xmax\n",
    "print(\"le taux d'avancement est de\",100*taux,\"%\")"
   ]
  },
  {
   "cell_type": "markdown",
   "metadata": {},
   "source": [
    "# Exercice\n",
    "1. Vérifier que le volume de la solution n'influence pas le résultat en lançant la simulation pour différents volumes à concentration fixée (attention à la valeur de dx qui doit être assez petite devant la quantité de matière initiale)\n",
    "2. Vérifier que le taux d'avancement est d'autant plus grand que la solution est diluée en lançant la simulation pour différents jeux de paramètres initiaux bien choisis\n",
    "3. Vérifier l'influence du pKa sur le taux d'avancement final"
   ]
  },
  {
   "cell_type": "markdown",
   "metadata": {},
   "source": [
    "On peut améliorer un peu l'affichage en arrondissant le résultat. On peut également tenir compte de la concentration initiale en ions $H_3O^{+}$ due à l'auto protolyse de l'eau afin de voir que celà peut être négligé. Enfin, on peut arrêter la simulation si l'avancement $x_{max}$ est atteint afin de pouvoir traiter également les acides forts."
   ]
  },
  {
   "cell_type": "code",
   "execution_count": 2,
   "metadata": {},
   "outputs": [
    {
     "name": "stdout",
     "output_type": "stream",
     "text": [
      "l'avancement final est de 1.23E-05 mol\n",
      "le taux d'avancement est de 12.34 %\n"
     ]
    }
   ],
   "source": [
    "# Paramètres de la simulation\n",
    "C = 1e-3 # mol/L\n",
    "V = 0.1 # L\n",
    "Ka = 10**(-4.76)\n",
    "e = 1e-7\n",
    "dx = 1e-8\n",
    "\n",
    "# Initialisation\n",
    "x = 0\n",
    "\n",
    "# Simulation\n",
    "while x < C*V and (x/V)*(x/V + e) / (C - x/V) < Ka:\n",
    "    x = x + dx\n",
    "\n",
    "print(\"l'avancement final est de {:.2E} mol\".format(x))\n",
    "\n",
    "# Calcul du taux d'avancement\n",
    "xmax = C*V\n",
    "taux = x / xmax\n",
    "print(\"le taux d'avancement est de {:.2f} %\".format(100*taux))"
   ]
  },
  {
   "cell_type": "markdown",
   "metadata": {},
   "source": [
    "# Exercice\n",
    "4. Réalisez la simulation pour 250 mL d'une solution de chlorure d'ammonium de concentration $1,00 \\cdot 10^{-3} mol.L^{-1}$. Le pKa du couple ammonium/ammoniac est de 9,23."
   ]
  },
  {
   "cell_type": "code",
   "execution_count": null,
   "metadata": {},
   "outputs": [],
   "source": [
    "# question 4\n"
   ]
  },
  {
   "cell_type": "markdown",
   "metadata": {},
   "source": [
    "On peut aussi passer par le code après une étape de mise en équation un peu plus poussée. En effet, si on note $h$ la concentration finale en ion oxonium $H_3O^{+}$, et $C$ la concentration initiale en acide éthanoïque $CH_3COOH$ on a:\n",
    "$$K_a = \\frac{h^2}{C-h}$$\n",
    "\n",
    "soit $h^2 + K_a h - K_a C = 0$ une équation du deuxième degré à une inconnue que l'on peut résoudre pour différentes valeurs de $C$."
   ]
  },
  {
   "cell_type": "code",
   "execution_count": 3,
   "metadata": {},
   "outputs": [
    {
     "name": "stdout",
     "output_type": "stream",
     "text": [
      "le taux d'avancement est de 12.34 %\n"
     ]
    }
   ],
   "source": [
    "# Paramètres de la simulation\n",
    "C = 1e-3 # mol/L\n",
    "Ka = 10**(-4.76)\n",
    "\n",
    "# Initialisation\n",
    "delta = Ka**2 + 4*Ka*C\n",
    "\n",
    "# une seule solution physiquement acceptable avec h > 0\n",
    "h = (-Ka + delta**0.5) / 2.\n",
    "\n",
    "# Calcul du taux d'avancement\n",
    "taux = h / C\n",
    "print(\"le taux d'avancement est de {:.2f} %\".format(100*taux))"
   ]
  },
  {
   "cell_type": "markdown",
   "metadata": {},
   "source": [
    "# Pour aller plus loin...\n",
    "Dans le cas d'un diacide, les deux équilibres sont liés. On peut par exemple regarder le cas de l'acide tartrique $HOOC-CHOH-CHOH-COOH$ diacide dont les pKa sont de 3,04 et 4,37. La résolution ci-dessous est approchée mais donne de bons résultats et le fonctionnement du programme est compréhensible facilement."
   ]
  },
  {
   "cell_type": "code",
   "execution_count": 5,
   "metadata": {},
   "outputs": [
    {
     "name": "stdout",
     "output_type": "stream",
     "text": [
      "les concentrations à l'équilibre sont de 3.97E-04 mol/L pour AH2, 5.65E-04 mol/L pour AH- et 3.77E-05 mol/L pour A2-\n"
     ]
    }
   ],
   "source": [
    "# Paramètres de la simulation\n",
    "C = 1e-3 # mol/L\n",
    "V = 0.1 # L\n",
    "Ka = [10**(-3.04), 10**(-4.37)]\n",
    "dx = 1e-8\n",
    "\n",
    "# Initialisation\n",
    "liste_C = [C, 0, 0]\n",
    "x = [0,0]\n",
    "H3Oplus = 1e-7\n",
    "\n",
    "# Simulation\n",
    "while liste_C[0] > 0 and liste_C[1]*H3Oplus / liste_C[0] < Ka[0]:\n",
    "    x[0] = x[0] + dx\n",
    "    liste_C[0] = liste_C[0] - dx/V\n",
    "    liste_C[1] = liste_C[1] + dx/V\n",
    "    H3Oplus = H3Oplus + dx/V\n",
    "    while liste_C[1] > 0 and liste_C[2]*H3Oplus / liste_C[1] < Ka[1]:\n",
    "        x[1] = x[1] + dx\n",
    "        liste_C[1] = liste_C[1] - dx/V\n",
    "        liste_C[2] = liste_C[2] + dx/V\n",
    "        H3Oplus = H3Oplus + dx/V\n",
    "\n",
    "\n",
    "# Affichage des concentrations à l'équilibre\n",
    "print(\"les concentrations à l'équilibre sont de {:.2E} mol/L pour AH2, {:.2E} mol/L pour AH- et {:.2E} mol/L pour A2-\".format(*liste_C))\n"
   ]
  },
  {
   "cell_type": "markdown",
   "metadata": {},
   "source": [
    "# Exercice\n",
    "5. Modifiez le programme précédent afin d'étudier l'acide sulfurique dont les pKa sont de -3 et 1,9."
   ]
  },
  {
   "cell_type": "code",
   "execution_count": 7,
   "metadata": {},
   "outputs": [],
   "source": [
    "# question 5\n"
   ]
  },
  {
   "cell_type": "markdown",
   "metadata": {},
   "source": [
    "La résolution de l'équation $x^3-2x^2-x+2=0$ peut se faire en python en utilisant le module polynomial de la bibliothèque numpy. Le polynôme est défini par la liste de ses coefficients en commençnt par le degré 0. la méthode roots() donne ensuite les racines du polynôme."
   ]
  },
  {
   "cell_type": "code",
   "execution_count": 5,
   "metadata": {},
   "outputs": [
    {
     "name": "stdout",
     "output_type": "stream",
     "text": [
      "[-1.  1.  2.]\n"
     ]
    }
   ],
   "source": [
    "from numpy.polynomial import Polynomial\n",
    "\n",
    "p = Polynomial([2,-1,-2,1])\n",
    "print(p.roots())"
   ]
  },
  {
   "cell_type": "markdown",
   "metadata": {},
   "source": [
    "On peut utiliser cela afin de déterminer l'avancement à l'équilibre dans le cas d'un diacide par exemple. Celui-ci existe sous trois formes en équilibre les unes avec les autres que l'on peut noter $AH_2$, $AH^{-}$ et $A^{2-}$. On a donc \n",
    "$$K_{a_1} = \\frac{[AH^{-}][H_3O^{+}]}{[AH_2]}$$\n",
    "et \n",
    "$$K_{a_2} = \\frac{[A^{2-}][H_3O^{+}]}{[AH^{-}]}$$\n",
    "\n",
    "$$ \\ $$\n",
    "Si on note $[A^{2-}] = a$ et $[H_3O^{+}] = h$ et $[AH_2]_i = C$ les deux équilibres donnent:\n",
    "$$[AH^{-}] = \\frac{a h}{K_{a_2}}$$  et $$[AH_2] = \\frac{a h^2}{K_{a_1} K_{a_2}}$$ La conservation de A donne: $$[AH_2] + [AH^{-}] + [A^{2-}] = cte = C$$ et enfin la conservation de la charge donne: $$2[A^{2-}] + [AH^{-}] + [HO^{-}] = [H_3O^{+}]$$ soit $$2 a + \\frac{a h}{K_{a_2}} + \\frac{K_e}{h} = h$$\n",
    "$$ \\ $$\n",
    "La mise en équation complète donne une équation de degré 4 en $h$ avec une seule solution physiquement acceptable. On trouve ainsi par résolution numérique de cette équation l'état d'équilibre. Cependant, la résolution nécessite une mise en équation bien plus difficile et un côté boite noire subsistes pour obtenir les racines du polynome."
   ]
  },
  {
   "cell_type": "code",
   "execution_count": 6,
   "metadata": {},
   "outputs": [
    {
     "name": "stdout",
     "output_type": "stream",
     "text": [
      "les concentrations à l'équilibre sont de 3.97E-04 mol/L pour AH2, 5.65E-04 mol/L pour AH- et 3.76E-05 mol/L pour A2-\n"
     ]
    }
   ],
   "source": [
    "from numpy.polynomial import Polynomial\n",
    "# Paramètres de la simulation\n",
    "C = 1e-3 # mol/L\n",
    "Ka = [10**(-3.04), 10**(-4.37)]\n",
    "Ke = 1e-14\n",
    "\n",
    "p = Polynomial([-Ke,-Ke/Ka[1] -2*C,1-Ke/(Ka[0]*Ka[1])-C/Ka[1],1/Ka[1],1/(Ka[0]*Ka[1])])\n",
    "h = p.roots()[-1]\n",
    "\n",
    "a = (h**2-Ke)/(2*h+h**2/Ka[1])\n",
    "liste_C = [a*h**2/(Ka[0]*Ka[1]), a*h/Ka[1], a]\n",
    "\n",
    "# Affichage des concentrations à l'équilibre\n",
    "print(\"les concentrations à l'équilibre sont de {:.2E} mol/L pour AH2, {:.2E} mol/L pour AH- et {:.2E} mol/L pour A2-\".format(*liste_C))\n"
   ]
  },
  {
   "cell_type": "markdown",
   "metadata": {},
   "source": [
    "<p style=\"text-align:justify;\"><span style=\"float:left;\"><a href=\"./pythonterm3.ipynb\" > page précédente </a></span> <span style=\"float:right;\"><a href=\"./pythonterm5.ipynb\" > page suivante </a></span></p>\n"
   ]
  }
 ],
 "metadata": {
  "kernelspec": {
   "display_name": "Python 3",
   "language": "python",
   "name": "python3"
  },
  "language_info": {
   "codemirror_mode": {
    "name": "ipython",
    "version": 3
   },
   "file_extension": ".py",
   "mimetype": "text/x-python",
   "name": "python",
   "nbconvert_exporter": "python",
   "pygments_lexer": "ipython3",
   "version": "3.7.6"
  },
  "varInspector": {
   "cols": {
    "lenName": 16,
    "lenType": 16,
    "lenVar": 40
   },
   "kernels_config": {
    "python": {
     "delete_cmd_postfix": "",
     "delete_cmd_prefix": "del ",
     "library": "var_list.py",
     "varRefreshCmd": "print(var_dic_list())"
    },
    "r": {
     "delete_cmd_postfix": ") ",
     "delete_cmd_prefix": "rm(",
     "library": "var_list.r",
     "varRefreshCmd": "cat(var_dic_list()) "
    }
   },
   "types_to_exclude": [
    "module",
    "function",
    "builtin_function_or_method",
    "instance",
    "_Feature"
   ],
   "window_display": false
  }
 },
 "nbformat": 4,
 "nbformat_minor": 4
}
